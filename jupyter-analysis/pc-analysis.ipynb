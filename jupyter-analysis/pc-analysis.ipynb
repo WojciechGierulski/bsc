{
 "cells": [
  {
   "cell_type": "code",
   "execution_count": 1,
   "id": "64ca1a71-02a5-4f94-97a5-85c39a4f1899",
   "metadata": {},
   "outputs": [],
   "source": [
    "import numpy as np\n",
    "import pickle\n",
    "import open3d as o3d\n",
    "import matplotlib.pyplot as plt\n",
    "import copy\n",
    "from collections import Counter"
   ]
  },
  {
   "cell_type": "code",
   "execution_count": 2,
   "id": "052961c9-928f-4d4c-a879-52baee004fb3",
   "metadata": {},
   "outputs": [
    {
     "name": "stdout",
     "output_type": "stream",
     "text": [
      "<class 'numpy.ndarray'>\n",
      "<class 'numpy.ndarray'>\n",
      "(4, 4)\n",
      "(480, 640)\n"
     ]
    }
   ],
   "source": [
    "# Load data\n",
    "data_raw = []\n",
    "tfs1 = []\n",
    "tfs2 = []\n",
    "\n",
    "for i in range(4):\n",
    "    with open(f\"../data/{i + 1}.pickle\", \"rb\") as file:\n",
    "        data_raw.append(pickle.load(file, encoding='latin1'))\n",
    "    with open(f\"../data/{i + 1}_tf1.pickle\", \"rb\") as file:\n",
    "        tfs1.append(pickle.load(file, encoding='latin1'))\n",
    "    with open(f\"../data/{i + 1}_tf2.pickle\", \"rb\") as file:\n",
    "        tfs2.append(pickle.load(file, encoding='latin1'))\n",
    "\n",
    "print(type(tfs1[0])) # Tf matrix 4x4\n",
    "print(type(data_raw[0])) #numpy array\n",
    "print(tfs1[0].shape)\n",
    "print(data_raw[0].shape)"
   ]
  },
  {
   "cell_type": "code",
   "execution_count": 3,
   "id": "491005d8-f6cd-4009-877c-fbc9c0f38371",
   "metadata": {},
   "outputs": [
    {
     "name": "stdout",
     "output_type": "stream",
     "text": [
      "(253271, 3)\n"
     ]
    }
   ],
   "source": [
    "# Convert data to np arr\n",
    "\n",
    "def remove_nans(data):\n",
    "    data = data[np.logical_not(np.isnan(data))]\n",
    "    return data.reshape((len(data), 1))\n",
    "\n",
    "\n",
    "def convert_raw_data(data):\n",
    "    shape = (data['x'].shape[0] * data['x'].shape[1], 1)\n",
    "    x = data['x'].astype(np.float64)\n",
    "    y = data['y'].astype(np.float64)\n",
    "    z = data['z'].astype(np.float64)\n",
    "    r = data['r'].astype(np.float64)\n",
    "    g = data['g'].astype(np.float64)\n",
    "    b = data['b'].astype(np.float64)\n",
    "\n",
    "    x = x.reshape(shape)\n",
    "    y = y.reshape(shape)\n",
    "    z = z.reshape(shape)\n",
    "    r = r.reshape(shape)\n",
    "    g = g.reshape(shape)\n",
    "    b = b.reshape(shape)\n",
    "\n",
    "    nan_arr = np.logical_not(np.isnan(x))\n",
    "    x = remove_nans(x)\n",
    "    y = remove_nans(y)\n",
    "    z = remove_nans(z)\n",
    "    shape = (len(x), 1)\n",
    "\n",
    "    r = r[nan_arr].reshape(shape) / 255\n",
    "    g = g[nan_arr].reshape(shape) / 255\n",
    "    b = b[nan_arr].reshape(shape) / 255\n",
    "\n",
    "    return np.hstack((x, y, z)), np.hstack((r, g, b))\n",
    "\n",
    "\n",
    "\n",
    "converted_pcs = []\n",
    "converted_rgbs = []\n",
    "for raw in data_raw:\n",
    "    converted_pc, converted_rgb = convert_raw_data(raw)\n",
    "    converted_pcs.append(converted_pc)\n",
    "    converted_rgbs.append(converted_rgb)\n",
    "\n",
    "print(converted_pcs[0].shape) # n_samples x 3\n"
   ]
  },
  {
   "cell_type": "code",
   "execution_count": 4,
   "id": "0bbbe3a8-f8d5-408b-b9e1-3dc11f0edc51",
   "metadata": {},
   "outputs": [],
   "source": [
    "# Converto to O3D PointCloud\n",
    "pcs = []\n",
    "\n",
    "for pts, rgb in zip(converted_pcs, converted_rgbs):\n",
    "    pc = o3d.geometry.PointCloud()\n",
    "    pc.points = o3d.utility.Vector3dVector(pts)\n",
    "    pc.colors = o3d.utility.Vector3dVector(rgb)\n",
    "    pcs.append(pc)"
   ]
  },
  {
   "cell_type": "code",
   "execution_count": 7,
   "id": "d4489a6f-04fe-4758-84e5-9b5522f387fd",
   "metadata": {},
   "outputs": [],
   "source": [
    "# Transform pc to world frame\n",
    "\n",
    "transformed_pcs = []\n",
    "for i, pc in enumerate(pcs):\n",
    "    transformed_pc = copy.deepcopy(pc).transform(tfs2[i])\n",
    "    transformed_pcs.append(transformed_pc)\n",
    "\n",
    "pc = transformed_pcs[1]\n",
    "o3d.visualization.draw_geometries([pc])"
   ]
  },
  {
   "cell_type": "code",
   "execution_count": 6,
   "id": "58737ddf-3076-48cd-94c9-6d377c277428",
   "metadata": {},
   "outputs": [
    {
     "name": "stdout",
     "output_type": "stream",
     "text": [
      "0.5057439804077148\n",
      "Plane equation: -0.01043x + 0.00232y + 0.99994z + -0.70371 = 0\n"
     ]
    }
   ],
   "source": [
    "# Fit plane\n",
    "import time\n",
    "\n",
    "start = time.time()\n",
    "plane_model, inliers = pc.segment_plane(distance_threshold=0.0075,\n",
    "                                         ransac_n=3,\n",
    "                                         num_iterations=1000)\n",
    "print(time.time()-start)\n",
    "[a, b, c, d] = plane_model\n",
    "plane = np.array([a, b, c, d])\n",
    "print(f\"Plane equation: {a:.5f}x + {b:.5f}y + {c:.5f}z + {d:.5f} = 0\")\n",
    "\n",
    "inlier_cloud = pc.select_by_index(inliers)\n",
    "inlier_cloud.paint_uniform_color([1.0, 0, 0])\n",
    "outlier_cloud = pc.select_by_index(inliers, invert=True)\n",
    "o3d.visualization.draw_geometries([inlier_cloud, outlier_cloud])"
   ]
  },
  {
   "cell_type": "code",
   "execution_count": 7,
   "id": "09834d2b-6781-4f13-9d69-a358e2939205",
   "metadata": {},
   "outputs": [],
   "source": [
    "OFFSET = 0.01\n",
    "\n",
    "def remove_points_below_plane(pc, plane, offset):\n",
    "    points = np.array(pc.points)\n",
    "    rgb = np.array(pc.colors)\n",
    "    plane[3] -= offset\n",
    "    good_map = np.dot(np.hstack((points, np.ones((points.shape[0], 1)))), plane) > 0\n",
    "\n",
    "    pc.points = o3d.utility.Vector3dVector(points[good_map])\n",
    "    pc.colors = o3d.utility.Vector3dVector(rgb[good_map])\n",
    "    return pc\n",
    "\n",
    "pc = remove_points_below_plane(pc, plane, OFFSET)\n",
    "o3d.visualization.draw_geometries([pc])"
   ]
  },
  {
   "cell_type": "code",
   "execution_count": 8,
   "id": "fba976da-8067-4b43-9c05-7e1ea47ecaa4",
   "metadata": {},
   "outputs": [
    {
     "name": "stdout",
     "output_type": "stream",
     "text": [
      "[0.21111632 1.14908432 0.70133295] [1.06889411 1.07685386 0.01686364]\n",
      "[0.20850938 1.14966528 0.95131868] [1.06889411 1.07685386 0.5       ]\n"
     ]
    }
   ],
   "source": [
    "# Remove points far from inlier_cloud\n",
    "def get_table_bbox(inliers, plane, ROIheight, offset):\n",
    "    # DBScan elements above table in order to find max cluster which is table plane\n",
    "    inliers = inliers.voxel_down_sample(voxel_size=0.015)\n",
    "    labels = np.array(inliers.cluster_dbscan(eps=0.1, min_points=100, print_progress=True))\n",
    "    max_label = labels.max()\n",
    "    colors = plt.get_cmap(\"tab20\")(labels / (max_label if max_label > 0 else 1))\n",
    "    colors[labels < 0] = 0\n",
    "    inliers.colors = o3d.utility.Vector3dVector(colors[:, :3])\n",
    "\n",
    "    counter = Counter(labels)\n",
    "    counts = counter.most_common(2)\n",
    "    if len(counts) == 0:\n",
    "        return None\n",
    "    elif len(counts) == 1:\n",
    "        if counts[0][0] == -1:\n",
    "            return None\n",
    "        elif counts[0][0] != -1:\n",
    "            return counts[0][0]\n",
    "    elif len(counts) >= 2:\n",
    "        if counts[0][0] == -1:\n",
    "            max_class = counts[1][0]\n",
    "        elif counts[0][0] != 1:\n",
    "            max_class = counts[0][0]\n",
    "\n",
    "\n",
    "    # remove points not in main cluster\n",
    "    good_map = (labels == max_class)\n",
    "    inliers.points = o3d.utility.Vector3dVector(np.array(inliers.points)[good_map])\n",
    "    inliers.colors = o3d.utility.Vector3dVector(np.array(inliers.colors)[good_map])\n",
    "\n",
    "\n",
    "    # Create bounding box above table plane\n",
    "    plane_normal = np.array([plane[0], plane[1], abs(plane[2])]) # normal vector to plane pointing up\n",
    "    plane_normal = plane_normal / np.sqrt(np.sum(plane_normal**2)) # normalize vector\n",
    "\n",
    "    obox = inliers.get_oriented_bounding_box() # bounding box of table plane\n",
    "    obox.color = (1, 0, 0)\n",
    "    extent = obox.extent\n",
    "    center = obox.center\n",
    "\n",
    "    # Move center up and ROI height / 2\n",
    "    new_center = center + plane_normal * (ROIheight / 2.0)\n",
    "    new_extent = copy.deepcopy(extent)\n",
    "    new_extent[np.argmin(extent)] = ROIheight\n",
    "    print(center, extent)\n",
    "    print(new_center, new_extent)\n",
    "    obox.extent = new_extent\n",
    "    obox.center = new_center\n",
    "    o3d.visualization.draw_geometries([inliers, obox])\n",
    "    return obox\n",
    "\n",
    "\n",
    "ROIheight = 0.5\n",
    "ROIbox = get_table_bbox(inlier_cloud, plane, ROIheight, OFFSET)"
   ]
  },
  {
   "cell_type": "code",
   "execution_count": 9,
   "id": "e5f5ec33-439c-4728-93fe-502e8ebe9565",
   "metadata": {},
   "outputs": [],
   "source": [
    "# Crop only elements above table (in box roi)\n",
    "pc = pc.crop(ROIbox)\n",
    "o3d.visualization.draw_geometries([pc, ROIbox])"
   ]
  },
  {
   "cell_type": "code",
   "execution_count": 10,
   "id": "7ce5ce62-9fc5-4853-962b-2c645a440e14",
   "metadata": {},
   "outputs": [],
   "source": [
    "# Remove outliers\n",
    "\n",
    "def display_inlier_outlier(cloud, ind):\n",
    "    inlier_cloud = cloud.select_by_index(ind)\n",
    "    outlier_cloud = cloud.select_by_index(ind, invert=True)\n",
    "\n",
    "    outlier_cloud.paint_uniform_color([1, 0, 0])\n",
    "    o3d.visualization.draw_geometries([inlier_cloud, outlier_cloud])\n",
    "\n",
    "\n",
    "pc_new, ind = pc.remove_radius_outlier(nb_points=15, radius=0.01)\n",
    "display_inlier_outlier(pc, ind)"
   ]
  },
  {
   "cell_type": "code",
   "execution_count": null,
   "id": "ad277fa6-e878-446e-b637-ae85caab33eb",
   "metadata": {},
   "outputs": [],
   "source": []
  },
  {
   "cell_type": "code",
   "execution_count": 11,
   "id": "1944675b-10e4-4d6d-a969-2a3d7183e4a4",
   "metadata": {},
   "outputs": [
    {
     "name": "stdout",
     "output_type": "stream",
     "text": [
      "point cloud has 8 clusters\n"
     ]
    }
   ],
   "source": [
    "# Cluster\n",
    "\n",
    "labels = np.array(pc_new.cluster_dbscan(eps=0.03, min_points=40, print_progress=True))\n",
    "\n",
    "max_label = labels.max()\n",
    "n_clusters = max_label + 1\n",
    "print(f\"point cloud has {max_label + 1} clusters\")\n",
    "colors = plt.get_cmap(\"tab20\")(labels / (max_label if max_label > 0 else 1))\n",
    "colors[labels < 0] = 0\n",
    "pc_new.colors = o3d.utility.Vector3dVector(colors[:, :3])\n",
    "o3d.visualization.draw_geometries([pc_new])"
   ]
  },
  {
   "cell_type": "code",
   "execution_count": 12,
   "id": "9ad37b68-2354-4f9f-97d9-14f6b8ad5c07",
   "metadata": {},
   "outputs": [],
   "source": [
    "### Classifier ###"
   ]
  },
  {
   "cell_type": "code",
   "execution_count": 13,
   "id": "196749fe-512d-4e4b-bbc7-52f9c2355b2d",
   "metadata": {},
   "outputs": [],
   "source": [
    "clusters = []\n",
    "for i in range(n_clusters):\n",
    "    cluster = np.asarray(pc_new.points)[labels == i]\n",
    "    clusters.append(cluster)"
   ]
  },
  {
   "cell_type": "code",
   "execution_count": 14,
   "id": "4dbe5011-e421-4f10-9376-056170ce00e4",
   "metadata": {},
   "outputs": [],
   "source": [
    "def visualize_cluster(cluster):\n",
    "    cluster_pc = o3d.geometry.PointCloud()\n",
    "    cluster_pc.points = o3d.utility.Vector3dVector(cluster)\n",
    "    frame = o3d.geometry.TriangleMesh.create_coordinate_frame()\n",
    "    o3d.visualization.draw_geometries([cluster_pc, frame])"
   ]
  },
  {
   "cell_type": "code",
   "execution_count": 15,
   "id": "b377b4bc-c43a-46f9-aeba-cc34ec105b4e",
   "metadata": {},
   "outputs": [],
   "source": [
    "### OpenCV Classifier\n",
    "import cv2 as cv\n"
   ]
  },
  {
   "cell_type": "code",
   "execution_count": 18,
   "id": "3457d194-7b9f-43f2-bb20-a6ff0b15e12f",
   "metadata": {},
   "outputs": [
    {
     "ename": "error",
     "evalue": "OpenCV(4.6.0) D:\\bld\\libopencv_1661643075477\\work\\opencv_contrib\\modules\\surface_matching\\src\\ppf_match_3d.cpp:205: error: (-215:Assertion failed) PC.type() == CV_32F || PC.type() == CV_32FC1 in function 'cv::ppf_match_3d::PPF3DDetector::trainModel'\n",
     "output_type": "error",
     "traceback": [
      "\u001b[1;31m---------------------------------------------------------------------------\u001b[0m",
      "\u001b[1;31merror\u001b[0m                                     Traceback (most recent call last)",
      "Cell \u001b[1;32mIn [18], line 2\u001b[0m\n\u001b[0;32m      1\u001b[0m detector \u001b[38;5;241m=\u001b[39m cv\u001b[38;5;241m.\u001b[39mppf_match_3d_PPF3DDetector(\u001b[38;5;241m0.025\u001b[39m, \u001b[38;5;241m0.05\u001b[39m)\n\u001b[1;32m----> 2\u001b[0m \u001b[43mdetector\u001b[49m\u001b[38;5;241;43m.\u001b[39;49m\u001b[43mtrainModel\u001b[49m\u001b[43m(\u001b[49m\u001b[38;5;241;43m3\u001b[39;49m\u001b[43m)\u001b[49m\n",
      "\u001b[1;31merror\u001b[0m: OpenCV(4.6.0) D:\\bld\\libopencv_1661643075477\\work\\opencv_contrib\\modules\\surface_matching\\src\\ppf_match_3d.cpp:205: error: (-215:Assertion failed) PC.type() == CV_32F || PC.type() == CV_32FC1 in function 'cv::ppf_match_3d::PPF3DDetector::trainModel'\n"
     ]
    }
   ],
   "source": [
    "detector = cv.ppf_match_3d_PPF3DDetector(0.025, 0.05)\n",
    "pts\n",
    "detector.trainModel(3)"
   ]
  },
  {
   "cell_type": "code",
   "execution_count": null,
   "id": "b3465889-b927-4221-8dd0-b5a7e6cdd768",
   "metadata": {},
   "outputs": [],
   "source": []
  }
 ],
 "metadata": {
  "kernelspec": {
   "display_name": "Python 3 (ipykernel)",
   "language": "python",
   "name": "python3"
  },
  "language_info": {
   "codemirror_mode": {
    "name": "ipython",
    "version": 3
   },
   "file_extension": ".py",
   "mimetype": "text/x-python",
   "name": "python",
   "nbconvert_exporter": "python",
   "pygments_lexer": "ipython3",
   "version": "3.8.13"
  }
 },
 "nbformat": 4,
 "nbformat_minor": 5
}
